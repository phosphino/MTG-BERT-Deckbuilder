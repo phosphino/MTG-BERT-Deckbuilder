{
 "cells": [
  {
   "cell_type": "code",
   "execution_count": 8,
   "metadata": {},
   "outputs": [],
   "source": [
    "import os, sys, re\n",
    "import json\n",
    "import numpy as np\n",
    "import torch \n",
    "from torch.utils.data import Dataset, DataLoader\n",
    "import polars as pl\n",
    "from polars import selectors as cs\n",
    "import pyarrow.feather as feather\n",
    "from functools import partial\n",
    "from datasets import Dataset as DSet\n",
    "from datasets import DatasetDict as DDict\n",
    "from datasets import concatenate_datasets\n",
    "\n",
    "import pandas as pd\n",
    "\n",
    "from scipy.sparse import csr_matrix, coo_matrix\n",
    "\n",
    "from transformers import AutoTokenizer, AutoModel, AutoModelForMaskedLM, Trainer, TrainingArguments, TextDataset, RobertaForMaskedLM"
   ]
  },
  {
   "cell_type": "code",
   "execution_count": 9,
   "metadata": {},
   "outputs": [],
   "source": [
    "from sqlalchemy import create_engine, MetaData, Table, select, func\n",
    "import random"
   ]
  },
  {
   "cell_type": "code",
   "execution_count": 10,
   "metadata": {},
   "outputs": [],
   "source": [
    "import matplotlib.pyplot as plt"
   ]
  },
  {
   "cell_type": "code",
   "execution_count": 11,
   "metadata": {},
   "outputs": [],
   "source": [
    "from sklearn.model_selection import train_test_split"
   ]
  },
  {
   "cell_type": "code",
   "execution_count": 12,
   "metadata": {},
   "outputs": [],
   "source": [
    "from itertools import compress, chain\n",
    "from collections import defaultdict"
   ]
  },
  {
   "cell_type": "code",
   "execution_count": 201,
   "metadata": {},
   "outputs": [],
   "source": [
    "from scipy.sparse import triu"
   ]
  },
  {
   "cell_type": "code",
   "execution_count": 152,
   "metadata": {},
   "outputs": [],
   "source": [
    "combo_matrices_path = r\"C:\\Users\\breuh\\OneDrive\\proggy\\python\\MTG\\roberta\\combo_matrices.pt\"\n",
    "combo_matrices_path = os.path.normpath(combo_matrices_path)"
   ]
  },
  {
   "cell_type": "code",
   "execution_count": 155,
   "metadata": {},
   "outputs": [],
   "source": [
    "Matrices = torch.load(combo_matrices_path, weights_only=False)"
   ]
  },
  {
   "cell_type": "code",
   "execution_count": 157,
   "metadata": {},
   "outputs": [
    {
     "data": {
      "text/plain": [
       "dict_keys(['M', 'y', 'MM', 'MW', 'P', 'cardnames', 'meta'])"
      ]
     },
     "execution_count": 157,
     "metadata": {},
     "output_type": "execute_result"
    }
   ],
   "source": [
    "Matrices.keys()"
   ]
  },
  {
   "cell_type": "code",
   "execution_count": 231,
   "metadata": {},
   "outputs": [],
   "source": [
    "M = Matrices['M']\n",
    "y = Matrices['y']\n",
    "MM= Matrices['MM']\n",
    "MW= Matrices['MW']\n",
    "P = Matrices['P']\n",
    "cardnames_aligned = Matrices['cardnames']\n",
    "meta = Matrices['meta']"
   ]
  },
  {
   "cell_type": "code",
   "execution_count": 236,
   "metadata": {},
   "outputs": [
    {
     "data": {
      "text/plain": [
       "np.int32(1144367)"
      ]
     },
     "execution_count": 236,
     "metadata": {},
     "output_type": "execute_result"
    }
   ],
   "source": [
    "(M.T@M).max()"
   ]
  },
  {
   "cell_type": "code",
   "execution_count": 238,
   "metadata": {},
   "outputs": [
    {
     "data": {
      "text/plain": [
       "numpy.float32"
      ]
     },
     "execution_count": 238,
     "metadata": {},
     "output_type": "execute_result"
    }
   ],
   "source": [
    "np.float32"
   ]
  },
  {
   "cell_type": "code",
   "execution_count": 237,
   "metadata": {},
   "outputs": [
    {
     "data": {
      "text/plain": [
       "np.float64(0.004999875283663721)"
      ]
     },
     "execution_count": 237,
     "metadata": {},
     "output_type": "execute_result"
    }
   ],
   "source": [
    "MM.max()"
   ]
  },
  {
   "cell_type": "code",
   "execution_count": 13,
   "metadata": {},
   "outputs": [],
   "source": [
    "games_folder = r\"C:\\Users\\breuh\\OneDrive\\proggy\\python\\MTG\\roberta\\data_setups\\training_database.db\"\n",
    "games_folder = os.path.normpath(games_folder)"
   ]
  },
  {
   "cell_type": "code",
   "execution_count": 14,
   "metadata": {},
   "outputs": [
    {
     "name": "stdout",
     "output_type": "stream",
     "text": [
      "sqlite:///C:\\Users\\breuh\\OneDrive\\proggy\\python\\MTG\\roberta\\data_setups\\training_database.db\n"
     ]
    }
   ],
   "source": [
    "print(\"sqlite:///\"+games_folder)"
   ]
  },
  {
   "cell_type": "code",
   "execution_count": 15,
   "metadata": {},
   "outputs": [],
   "source": [
    "engine = create_engine(\"sqlite:///\"+games_folder)\n",
    "metadata = MetaData()\n",
    "metadata.reflect(bind=engine)"
   ]
  },
  {
   "cell_type": "code",
   "execution_count": 16,
   "metadata": {},
   "outputs": [
    {
     "data": {
      "text/plain": [
       "['BRO_Sealed',\n",
       " 'BRO_TradSealed',\n",
       " 'DFT_Sealed',\n",
       " 'DFT_TradSealed',\n",
       " 'KHM_PremierDraft',\n",
       " 'KTK_Sealed',\n",
       " 'KTK_TradSealed',\n",
       " 'LCI_Sealed',\n",
       " 'LCI_TradSealed',\n",
       " 'LTR_PremierDraft',\n",
       " 'LTR_Sealed',\n",
       " 'LTR_TradSealed',\n",
       " 'MKM_Sealed',\n",
       " 'MKM_TradSealed',\n",
       " 'MOM_Sealed',\n",
       " 'MOM_TradSealed',\n",
       " 'NEO_Sealed',\n",
       " 'ONE_Sealed',\n",
       " 'ONE_TradSealed',\n",
       " 'PIO_Sealed',\n",
       " 'SIR_Sealed',\n",
       " 'SIR_TradSealed',\n",
       " 'SNC_TradSealed',\n",
       " 'WOE_PremierDraft',\n",
       " 'WOE_Sealed',\n",
       " 'WOE_TradSealed']"
      ]
     },
     "execution_count": 16,
     "metadata": {},
     "output_type": "execute_result"
    }
   ],
   "source": [
    "gamedata_tablename_pattern = re.compile(r\"([A-Z]{3})_(\\D+)\")\n",
    "gamedata_tablenames = list(filter(gamedata_tablename_pattern.match, metadata.tables.keys()))\n",
    "\n",
    "gamedata_tablenames"
   ]
  },
  {
   "cell_type": "code",
   "execution_count": 17,
   "metadata": {},
   "outputs": [],
   "source": [
    "scryfall_table = metadata.tables['scryfall_pruned']\n",
    "\n",
    "query = select(scryfall_table.c.name).where(scryfall_table.c.type_line.ilike('%basic land%'))\n",
    "with engine.connect() as conn:\n",
    "    land_names = conn.execute(query).fetchall()\n",
    "land_names = [x[0] for x in land_names]"
   ]
  },
  {
   "cell_type": "code",
   "execution_count": 213,
   "metadata": {},
   "outputs": [],
   "source": [
    "p0 = y.mean()\n",
    "k = 200\n",
    "alpha0, beta0 = p0*k, (1-p0)*k\n",
    "def smooth(w, n): return (w+alpha0)/(n+alpha0+beta0)\n",
    "def logit(p, eps=1e-9): p=np.clip(p,eps,1-eps); return np.log(p) - np.log1p(-p)\n",
    "def sigmoid(z): return 1/(1+np.exp(-z))"
   ]
  },
  {
   "cell_type": "code",
   "execution_count": 222,
   "metadata": {},
   "outputs": [
    {
     "name": "stdout",
     "output_type": "stream",
     "text": [
      "0.004999875283663721 3.376289788506137e+19\n"
     ]
    }
   ],
   "source": [
    "def smooth_(MW_, MM_, alpha0=alpha0, beta0=beta0):\n",
    "    MW_.data = MW_.data * alpha0\n",
    "    MW_ = MW_.tocsr()\n",
    "    MM_.data = np.divide(1, MM_.data+alpha0+beta0,\n",
    "                         out=np.zeros_like(MM_.data, dtype=float),\n",
    "                         where=MM_.data != 0)\n",
    "    MM_ = MM_.tocsr()\n",
    "    print(MM_.max(), MW.max())\n",
    "    return MW_.multiply(MM_)\n",
    "\n",
    "Psmooth = smooth_(MW, MM)"
   ]
  },
  {
   "cell_type": "code",
   "execution_count": 230,
   "metadata": {},
   "outputs": [
    {
     "data": {
      "text/plain": [
       "np.int32(1)"
      ]
     },
     "execution_count": 230,
     "metadata": {},
     "output_type": "execute_result"
    }
   ],
   "source": [
    "M.max()"
   ]
  },
  {
   "cell_type": "code",
   "execution_count": 228,
   "metadata": {},
   "outputs": [
    {
     "data": {
      "text/plain": [
       "np.int32(641601)"
      ]
     },
     "execution_count": 228,
     "metadata": {},
     "output_type": "execute_result"
    }
   ],
   "source": [
    "(M.T @ (M.multiply(y.reshape(-1, 1))).tocsr()).max()"
   ]
  },
  {
   "cell_type": "code",
   "execution_count": 220,
   "metadata": {},
   "outputs": [],
   "source": [
    "Psmooth_triu = triu(Psmooth, k=1)\n",
    "P_triu = triu(P, k=1)"
   ]
  },
  {
   "cell_type": "code",
   "execution_count": 221,
   "metadata": {},
   "outputs": [
    {
     "data": {
      "text/plain": [
       "(np.float64(612505985790633.8), np.float64(1.0))"
      ]
     },
     "execution_count": 221,
     "metadata": {},
     "output_type": "execute_result"
    }
   ],
   "source": [
    "Psmooth_triu.max(), P_triu.max()"
   ]
  },
  {
   "cell_type": "code",
   "execution_count": 216,
   "metadata": {},
   "outputs": [
    {
     "data": {
      "text/plain": [
       "<matplotlib.collections.PathCollection at 0x2062d4467e0>"
      ]
     },
     "execution_count": 216,
     "metadata": {},
     "output_type": "execute_result"
    },
    {
     "data": {
      "image/png": "[encoded data removed]",
      "text/plain": [
       "<Figure size 640x480 with 1 Axes>"
      ]
     },
     "metadata": {},
     "output_type": "display_data"
    }
   ],
   "source": [
    "plt.scatter(P_triu.data, Psmooth_triu.data)"
   ]
  },
  {
   "cell_type": "code",
   "execution_count": 19,
   "metadata": {},
   "outputs": [
    {
     "name": "stderr",
     "output_type": "stream",
     "text": [
      "C:\\Users\\breuh\\AppData\\Local\\Temp\\ipykernel_12036\\1897118090.py:4: RuntimeWarning: invalid value encountered in divide\n",
      "  p_i = w_i/n_i\n"
     ]
    }
   ],
   "source": [
    "# singles\n",
    "n_i = np.asarray(M.sum(axis=0)).ravel()\n",
    "w_i = np.asarray((M.multiply(y.reshape(-1, 1))).sum(axis=0)).ravel()\n",
    "p_i = w_i/n_i\n",
    "p_i = np.nan_to_num(p_i, nan=0)\n",
    "\n",
    "# pairs (upper triangle later)\n",
    "n_ij = (M.T @ M).tocoo()\n",
    "w_ij = (M.T @ (M.multiply(y.reshape(-1, 1)))).tocoo()\n",
    "\n",
    "# align w_ij to n_ij\n",
    "w_lookup = {(r, c): v for r, c, v in zip(w_ij.row, w_ij.col, w_ij.data)}\n",
    "\n",
    "p0 = y.mean()\n",
    "k = 50\n",
    "alpha0, beta0 = p0*k, (1-p0)*k\n",
    "def smooth(w, n): return (w+alpha0)/(n+alpha0+beta0)\n",
    "def logit(p, eps=1e-9): p=np.clip(p,eps,1-eps); return np.log(p) - np.log1p(-p)\n",
    "def sigmoid(z): return 1/(1+np.exp(-z))"
   ]
  },
  {
   "cell_type": "code",
   "execution_count": 23,
   "metadata": {},
   "outputs": [
    {
     "data": {
      "text/plain": [
       "array([ 2244,   275,  3897, ...,  9231,  9505, 21195], shape=(4147,))"
      ]
     },
     "execution_count": 23,
     "metadata": {},
     "output_type": "execute_result"
    }
   ],
   "source": [
    "n_i"
   ]
  },
  {
   "cell_type": "code",
   "execution_count": 32,
   "metadata": {},
   "outputs": [],
   "source": [
    "p_i_smooth = smooth(w_i, n_i)"
   ]
  },
  {
   "cell_type": "code",
   "execution_count": 33,
   "metadata": {},
   "outputs": [
    {
     "data": {
      "text/plain": [
       "<matplotlib.legend.Legend at 0x20f16595280>"
      ]
     },
     "execution_count": 33,
     "metadata": {},
     "output_type": "execute_result"
    },
    {
     "data": {
      "image/png": "[encoded data removed]",
      "text/plain": [
       "<Figure size 640x480 with 1 Axes>"
      ]
     },
     "metadata": {},
     "output_type": "display_data"
    }
   ],
   "source": [
    "plt.plot(sorted(p_i), np.linspace(0, 1, len(p_i)), label='raw')\n",
    "plt.plot(sorted(p_i_smooth), np.linspace(0, 1, len(p_i)), label='smoothed')\n",
    "\n",
    "plt.legend(loc='upper left')"
   ]
  },
  {
   "cell_type": "code",
   "execution_count": 34,
   "metadata": {},
   "outputs": [
    {
     "data": {
      "text/plain": [
       "(0.0, 1.0)"
      ]
     },
     "execution_count": 34,
     "metadata": {},
     "output_type": "execute_result"
    },
    {
     "data": {
      "image/png": "[encoded data removed]",
      "text/plain": [
       "<Figure size 640x480 with 1 Axes>"
      ]
     },
     "metadata": {},
     "output_type": "display_data"
    }
   ],
   "source": [
    "plt.scatter(p_i, p_i_smooth, marker='.')\n",
    "plt.plot([0,1],[0,1],'r--')\n",
    "plt.hlines(p0,0,1,'g')\n",
    "plt.vlines(p0,0,1,'g')\n",
    "\n",
    "plt.ylim(0,1)\n",
    "plt.xlim(0,1)"
   ]
  },
  {
   "cell_type": "code",
   "execution_count": 85,
   "metadata": {},
   "outputs": [
    {
     "data": {
      "text/plain": [
       "0.5550307307594493"
      ]
     },
     "execution_count": 85,
     "metadata": {},
     "output_type": "execute_result"
    }
   ],
   "source": [
    "p0 = y.mean()\n",
    "p0.item()"
   ]
  },
  {
   "cell_type": "code",
   "execution_count": 73,
   "metadata": {},
   "outputs": [],
   "source": [
    "rows = n_ij.row\n",
    "cols = n_ij.col\n",
    "nij = n_ij.data\n",
    "wij = np.array([w_lookup.get((r,c), 0) for r,c in zip(rows,cols)])\n",
    "p_ij = wij/nij"
   ]
  },
  {
   "cell_type": "code",
   "execution_count": 74,
   "metadata": {},
   "outputs": [],
   "source": [
    "# keep only upper triangle and support cutoff\n",
    "mask = (rows < cols) & (nij >= 100)   # min support = 100\n",
    "rows = rows[mask]\n",
    "cols = cols[mask]\n",
    "nij = nij[mask]\n",
    "wij = wij[mask]\n"
   ]
  },
  {
   "cell_type": "code",
   "execution_count": 76,
   "metadata": {},
   "outputs": [],
   "source": [
    "# observed smoothed winrate\n",
    "p_ij = smooth(wij, nij)\n",
    "\n",
    "# expected under no-interaction baseline\n",
    "p_i_sel = p_i_smooth[rows]\n",
    "p_j_sel = p_i_smooth[cols]\n",
    "p_ij_no_interaction = sigmoid(logit(p_i_sel) + logit(p_j_sel) - logit(p0))"
   ]
  },
  {
   "cell_type": "code",
   "execution_count": 77,
   "metadata": {},
   "outputs": [],
   "source": [
    "# synergy metrics\n",
    "lift = p_ij / p_no\n",
    "delta = logit(p_ij) - logit(p_no)\n",
    "\n",
    "# --- assemble results ---\n",
    "results = np.rec.fromarrays(\n",
    "    [rows, cols, nij, wij, p_ij, p_ij_no_interaction, lift, delta],\n",
    "    names=['i','j','n_games','n_wins','p_ij','p_no_int','lift','delta_logit']\n",
    ")"
   ]
  },
  {
   "cell_type": "code",
   "execution_count": null,
   "metadata": {},
   "outputs": [
    {
     "data": {
      "text/html": [
       "<div><style>\n",
       ".dataframe > thead > tr,\n",
       ".dataframe > tbody > tr {\n",
       "  text-align: right;\n",
       "  white-space: pre-wrap;\n",
       "}\n",
       "</style>\n",
       "<small>shape: (142_077, 8)</small><table border=\"1\" class=\"dataframe\"><thead><tr><th>i</th><th>j</th><th>n_games</th><th>n_wins</th><th>p_ij</th><th>p_no_int</th><th>lift</th><th>delta_logit</th></tr><tr><td>i32</td><td>i32</td><td>i64</td><td>i64</td><td>f64</td><td>f64</td><td>f64</td><td>f64</td></tr></thead><tbody><tr><td>14</td><td>16</td><td>115</td><td>76</td><td>0.628797</td><td>0.600983</td><td>1.046281</td><td>0.117498</td></tr><tr><td>5</td><td>16</td><td>127</td><td>76</td><td>0.586167</td><td>0.615379</td><td>0.95253</td><td>-0.121839</td></tr><tr><td>15</td><td>17</td><td>120</td><td>78</td><td>0.622068</td><td>0.642012</td><td>0.968935</td><td>-0.085772</td></tr><tr><td>5</td><td>18</td><td>308</td><td>190</td><td>0.608245</td><td>0.614974</td><td>0.989058</td><td>-0.028329</td></tr><tr><td>17</td><td>18</td><td>216</td><td>135</td><td>0.611848</td><td>0.658951</td><td>0.928518</td><td>-0.203536</td></tr><tr><td>&hellip;</td><td>&hellip;</td><td>&hellip;</td><td>&hellip;</td><td>&hellip;</td><td>&hellip;</td><td>&hellip;</td><td>&hellip;</td></tr><tr><td>2585</td><td>4146</td><td>214</td><td>147</td><td>0.661938</td><td>0.65525</td><td>1.010206</td><td>0.029742</td></tr><tr><td>1362</td><td>4146</td><td>1231</td><td>707</td><td>0.573577</td><td>0.567427</td><td>1.010838</td><td>0.025099</td></tr><tr><td>1065</td><td>4146</td><td>813</td><td>510</td><td>0.623119</td><td>0.570342</td><td>1.092535</td><td>0.21956</td></tr><tr><td>1003</td><td>4146</td><td>2500</td><td>1429</td><td>0.571275</td><td>0.578373</td><td>0.987727</td><td>-0.029043</td></tr><tr><td>255</td><td>4146</td><td>3595</td><td>2087</td><td>0.580179</td><td>0.560315</td><td>1.035451</td><td>0.081066</td></tr></tbody></table></div>"
      ],
      "text/plain": [
       "shape: (142_077, 8)\n",
       "┌──────┬──────┬─────────┬────────┬──────────┬──────────┬──────────┬─────────────┐\n",
       "│ i    ┆ j    ┆ n_games ┆ n_wins ┆ p_ij     ┆ p_no_int ┆ lift     ┆ delta_logit │\n",
       "│ ---  ┆ ---  ┆ ---     ┆ ---    ┆ ---      ┆ ---      ┆ ---      ┆ ---         │\n",
       "│ i32  ┆ i32  ┆ i64     ┆ i64    ┆ f64      ┆ f64      ┆ f64      ┆ f64         │\n",
       "╞══════╪══════╪═════════╪════════╪══════════╪══════════╪══════════╪═════════════╡\n",
       "│ 14   ┆ 16   ┆ 115     ┆ 76     ┆ 0.628797 ┆ 0.600983 ┆ 1.046281 ┆ 0.117498    │\n",
       "│ 5    ┆ 16   ┆ 127     ┆ 76     ┆ 0.586167 ┆ 0.615379 ┆ 0.95253  ┆ -0.121839   │\n",
       "│ 15   ┆ 17   ┆ 120     ┆ 78     ┆ 0.622068 ┆ 0.642012 ┆ 0.968935 ┆ -0.085772   │\n",
       "│ 5    ┆ 18   ┆ 308     ┆ 190    ┆ 0.608245 ┆ 0.614974 ┆ 0.989058 ┆ -0.028329   │\n",
       "│ 17   ┆ 18   ┆ 216     ┆ 135    ┆ 0.611848 ┆ 0.658951 ┆ 0.928518 ┆ -0.203536   │\n",
       "│ …    ┆ …    ┆ …       ┆ …      ┆ …        ┆ …        ┆ …        ┆ …           │\n",
       "│ 2585 ┆ 4146 ┆ 214     ┆ 147    ┆ 0.661938 ┆ 0.65525  ┆ 1.010206 ┆ 0.029742    │\n",
       "│ 1362 ┆ 4146 ┆ 1231    ┆ 707    ┆ 0.573577 ┆ 0.567427 ┆ 1.010838 ┆ 0.025099    │\n",
       "│ 1065 ┆ 4146 ┆ 813     ┆ 510    ┆ 0.623119 ┆ 0.570342 ┆ 1.092535 ┆ 0.21956     │\n",
       "│ 1003 ┆ 4146 ┆ 2500    ┆ 1429   ┆ 0.571275 ┆ 0.578373 ┆ 0.987727 ┆ -0.029043   │\n",
       "│ 255  ┆ 4146 ┆ 3595    ┆ 2087   ┆ 0.580179 ┆ 0.560315 ┆ 1.035451 ┆ 0.081066    │\n",
       "└──────┴──────┴─────────┴────────┴──────────┴──────────┴──────────┴─────────────┘"
      ]
     },
     "execution_count": 82,
     "metadata": {},
     "output_type": "execute_result"
    }
   ],
   "source": [
    "df_results = pl.DataFrame(results)"
   ]
  },
  {
   "cell_type": "code",
   "execution_count": 47,
   "metadata": {},
   "outputs": [],
   "source": [
    "pairs = {}\n",
    "for i, j, nij in zip(n_ij.row, n_ij.col, n_ij.data):\n",
    "    if i >= j:\n",
    "        continue\n",
    "    w_ij_val = w_lookup.get((i, j), 0)\n",
    "    p_ij_smooth = smooth(w_ij_val, nij)\n",
    "    \n",
    "    p_ij_no_interaction = sigmoid(logit(p_i_smooth[i]) + logit(p_i_smooth[j]) - logit(p0))\n",
    "    lift = p_ij_smooth / p_ij_no_interaction\n",
    "    dlog = logit(p_ij_smooth) - logit(p_ij_no_interaction)\n",
    "    pairs[(i.item(),j.item())] = {'n': nij, 'w': w_ij_val, 'p_ij_smooth': p_ij_smooth, 'p_ij_no_interaction': p_ij_no_interaction, 'lift': lift, 'dlog': dlog}"
   ]
  },
  {
   "cell_type": "code",
   "execution_count": 50,
   "metadata": {},
   "outputs": [],
   "source": [
    "df_combos = pl.from_dicts(list(pairs.values()))"
   ]
  },
  {
   "cell_type": "code",
   "execution_count": 64,
   "metadata": {},
   "outputs": [],
   "source": [
    "df_combos_filtered = df_combos.filter((pl.col('n') >= 2*k) )"
   ]
  },
  {
   "cell_type": "code",
   "execution_count": 68,
   "metadata": {},
   "outputs": [],
   "source": [
    "X = df_combos_filtered.select(pl.col('p_ij_smooth'), pl.col('p_ij_no_interaction')).to_numpy()"
   ]
  },
  {
   "cell_type": "code",
   "execution_count": 69,
   "metadata": {},
   "outputs": [
    {
     "data": {
      "text/plain": [
       "[<matplotlib.lines.Line2D at 0x20fbf293d40>]"
      ]
     },
     "execution_count": 69,
     "metadata": {},
     "output_type": "execute_result"
    },
    {
     "data": {
      "image/png": "[encoded data removed]",
      "text/plain": [
       "<Figure size 640x480 with 1 Axes>"
      ]
     },
     "metadata": {},
     "output_type": "display_data"
    }
   ],
   "source": [
    "fig, ax = plt.subplots()\n",
    "ax.scatter(X[:,0], X[:,1], marker='.', alpha=0.1)\n",
    "ax.plot([0,1],[0,1],'r--')"
   ]
  }
 ],
 "metadata": {
  "kernelspec": {
   "display_name": "bert_venv",
   "language": "python",
   "name": "python3"
  },
  "language_info": {
   "codemirror_mode": {
    "name": "ipython",
    "version": 3
   },
   "file_extension": ".py",
   "mimetype": "text/x-python",
   "name": "python",
   "nbconvert_exporter": "python",
   "pygments_lexer": "ipython3",
   "version": "3.12.5"
  },
  "orig_nbformat": 4
 },
 "nbformat": 4,
 "nbformat_minor": 2
}
