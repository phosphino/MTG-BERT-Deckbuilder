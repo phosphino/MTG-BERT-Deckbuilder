{
 "cells": [
  {
   "cell_type": "markdown",
   "metadata": {},
   "source": [
    "## Taking raw data from scryfall and forming a table with the relevant fields. This will be used downstream to create the actual input for Roberta finetuning"
   ]
  },
  {
   "cell_type": "code",
   "execution_count": 2,
   "metadata": {},
   "outputs": [],
   "source": [
    "import os, sys, re\n",
    "import json\n",
    "import numpy as np\n",
    "import torch \n",
    "import polars as pl\n",
    "from polars import selectors as cs\n",
    "import pyarrow.feather as feather\n",
    "import pandas as pd"
   ]
  },
  {
   "cell_type": "code",
   "execution_count": 3,
   "metadata": {},
   "outputs": [],
   "source": [
    "from torch.utils.data import Dataset, DataLoader"
   ]
  },
  {
   "cell_type": "code",
   "execution_count": 4,
   "metadata": {},
   "outputs": [],
   "source": [
    "from sqlalchemy import (MetaData, Table, Column, Integer, create_engine)"
   ]
  },
  {
   "cell_type": "code",
   "execution_count": 5,
   "metadata": {},
   "outputs": [],
   "source": [
    "import json"
   ]
  },
  {
   "cell_type": "code",
   "execution_count": 6,
   "metadata": {},
   "outputs": [
    {
     "data": {
      "text/plain": [
       "False"
      ]
     },
     "execution_count": 6,
     "metadata": {},
     "output_type": "execute_result"
    }
   ],
   "source": [
    "torch.cuda.is_available()"
   ]
  },
  {
   "cell_type": "code",
   "execution_count": 7,
   "metadata": {},
   "outputs": [],
   "source": [
    "from transformers import AutoTokenizer, AutoModel"
   ]
  },
  {
   "cell_type": "code",
   "execution_count": 8,
   "metadata": {},
   "outputs": [],
   "source": [
    "# scryfall_path = r\"C:\\Users\\breuh\\OneDrive\\proggy\\python\\MTG\\roberta\\scryfall_json\\default-cards-20230731210608.json\"\n",
    "scryfall_path = r\"C:\\Users\\breuh\\OneDrive\\proggy\\python\\MTG\\roberta\\scryfall_json\\oracle-cards-20250623212748.json\"\n",
    "scryfall_path = os.path.normpath(scryfall_path)\n",
    "\n",
    "scryfall_temp = os.path.join(os.path.dirname(scryfall_path), \"scryfall_temp.json\")\n",
    "\n",
    "lands_folder = r\"C:\\Users\\breuh\\OneDrive\\proggy\\python\\MTG\\roberta\\17Lands\"\n",
    "lands_folder = os.path.normpath(lands_folder)\n",
    "\n",
    "lands_csv_fnames = [f for f in os.listdir(lands_folder) if '.csv' in f if \"combo\" not in f]"
   ]
  },
  {
   "cell_type": "code",
   "execution_count": 9,
   "metadata": {},
   "outputs": [
    {
     "data": {
      "text/plain": [
       "'game_data_public.BRO.Sealed.csv'"
      ]
     },
     "execution_count": 9,
     "metadata": {},
     "output_type": "execute_result"
    }
   ],
   "source": [
    "lands_csv_fnames[0]"
   ]
  },
  {
   "cell_type": "code",
   "execution_count": 10,
   "metadata": {},
   "outputs": [],
   "source": [
    "import unicodedata\n",
    "# remove weird text accents (ex: Ã -> A)\n",
    "def remove_accents(input_str):\n",
    "    try:\n",
    "        nfkd_form = unicodedata.normalize('NFKD', input_str)\n",
    "        clean = ''.join([c for c in nfkd_form if not unicodedata.combining(c)])\n",
    "    except:\n",
    "        return \"<unk>\"\n",
    "    return clean"
   ]
  },
  {
   "cell_type": "code",
   "execution_count": 11,
   "metadata": {},
   "outputs": [],
   "source": [
    "with open(scryfall_path, 'r', encoding=\"utf-8\") as f:\n",
    "    scryfall_txt = json.load(f)"
   ]
  },
  {
   "cell_type": "code",
   "execution_count": 12,
   "metadata": {},
   "outputs": [],
   "source": [
    "scryfall_legalities = ['standard', 'pioneer', 'modern', 'explorer', 'historic', 'vintage', 'legacy']"
   ]
  },
  {
   "cell_type": "code",
   "execution_count": 13,
   "metadata": {},
   "outputs": [],
   "source": [
    "scryfall_feature_columns =[ 'mana_cost', 'type_line', 'power', 'toughness', 'oracle_text',\\\n",
    "                           'colors', 'name', 'cmc', 'color_identity', 'keywords', 'set']\n",
    "\n",
    "filter_columns = ['lang', 'legalities']"
   ]
  },
  {
   "cell_type": "code",
   "execution_count": 14,
   "metadata": {},
   "outputs": [],
   "source": [
    "for index, card in enumerate(scryfall_txt):\n",
    "    new_card = dict()\n",
    "    for k, v in card.items():\n",
    "        if k == 'name':\n",
    "            new_card[k] = remove_accents(v)\n",
    "            continue\n",
    "        elif k == 'oracle_text':\n",
    "            new_card[k] = remove_accents(v)\n",
    "            continue\n",
    "        new_card[k] = v \n",
    "    scryfall_txt[index] = new_card\n"
   ]
  },
  {
   "cell_type": "code",
   "execution_count": 15,
   "metadata": {},
   "outputs": [],
   "source": [
    "scryfall_txt_subset = [{k: v for k, v in card.items() if k in scryfall_feature_columns+filter_columns} for card in scryfall_txt]"
   ]
  },
  {
   "cell_type": "code",
   "execution_count": 16,
   "metadata": {},
   "outputs": [],
   "source": [
    "df_utf8 = pl.from_dicts(scryfall_txt_subset)"
   ]
  },
  {
   "cell_type": "code",
   "execution_count": 17,
   "metadata": {},
   "outputs": [],
   "source": [
    "legality_filter = [pl.col('legalities').struct.field(a) == 'legal' for a in scryfall_legalities]\n",
    "df_utf8 = df_utf8.filter(pl.any_horizontal(legality_filter) & (pl.col('lang') == 'en'))"
   ]
  },
  {
   "cell_type": "code",
   "execution_count": 18,
   "metadata": {},
   "outputs": [
    {
     "data": {
      "text/plain": [
       "(29849, 13)"
      ]
     },
     "execution_count": 18,
     "metadata": {},
     "output_type": "execute_result"
    }
   ],
   "source": [
    "df_utf8.shape"
   ]
  },
  {
   "cell_type": "code",
   "execution_count": 74,
   "metadata": {},
   "outputs": [
    {
     "data": {
      "text/plain": [
       "['mana_cost',\n",
       " 'type_line',\n",
       " 'power',\n",
       " 'toughness',\n",
       " 'oracle_text',\n",
       " 'colors',\n",
       " 'name',\n",
       " 'cmc',\n",
       " 'color_identity',\n",
       " 'keywords',\n",
       " 'set']"
      ]
     },
     "execution_count": 74,
     "metadata": {},
     "output_type": "execute_result"
    }
   ],
   "source": [
    "scryfall_feature_columns"
   ]
  },
  {
   "cell_type": "code",
   "execution_count": 19,
   "metadata": {},
   "outputs": [],
   "source": [
    "df_utf8 = (\n",
    "    df_utf8\n",
    "    .select(scryfall_feature_columns)\n",
    "    .filter(~pl.col(\"name\").str.starts_with(\"A-\"))\n",
    "    .sort(\"name\")\n",
    ")"
   ]
  },
  {
   "cell_type": "code",
   "execution_count": 20,
   "metadata": {},
   "outputs": [
    {
     "name": "stdout",
     "output_type": "stream",
     "text": [
      "(29632, 11)\n",
      "(29632, 11)\n"
     ]
    }
   ],
   "source": [
    "print(df_utf8.shape)\n",
    "df_utf8 = df_utf8.unique(subset='name')\n",
    "print(df_utf8.shape)"
   ]
  },
  {
   "cell_type": "code",
   "execution_count": 21,
   "metadata": {},
   "outputs": [],
   "source": [
    "#convert list columns to comma-separated strings\n",
    "df_utf8 = df_utf8.with_columns(cs.by_dtype(pl.List(str)).list.join(\", \"))"
   ]
  },
  {
   "cell_type": "code",
   "execution_count": 22,
   "metadata": {},
   "outputs": [
    {
     "data": {
      "text/plain": [
       "['mana_cost',\n",
       " 'type_line',\n",
       " 'power',\n",
       " 'toughness',\n",
       " 'oracle_text',\n",
       " 'colors',\n",
       " 'name',\n",
       " 'cmc',\n",
       " 'color_identity',\n",
       " 'keywords',\n",
       " 'set']"
      ]
     },
     "execution_count": 22,
     "metadata": {},
     "output_type": "execute_result"
    }
   ],
   "source": [
    "df_utf8.columns"
   ]
  },
  {
   "cell_type": "code",
   "execution_count": 23,
   "metadata": {},
   "outputs": [
    {
     "data": {
      "text/html": [
       "<div><style>\n",
       ".dataframe > thead > tr,\n",
       ".dataframe > tbody > tr {\n",
       "  text-align: right;\n",
       "  white-space: pre-wrap;\n",
       "}\n",
       "</style>\n",
       "<small>shape: (0, 1)</small><table border=\"1\" class=\"dataframe\"><thead><tr><th>name</th></tr><tr><td>str</td></tr></thead><tbody></tbody></table></div>"
      ],
      "text/plain": [
       "shape: (0, 1)\n",
       "┌──────┐\n",
       "│ name │\n",
       "│ ---  │\n",
       "│ str  │\n",
       "╞══════╡\n",
       "└──────┘"
      ]
     },
     "execution_count": 23,
     "metadata": {},
     "output_type": "execute_result"
    }
   ],
   "source": [
    "df_utf8.filter(pl.any_horizontal([pl.col(c) == \"<UNK>\" for c in ['name', 'oracle_text']])).select(pl.col(\"name\")).sort(by='name')"
   ]
  },
  {
   "cell_type": "code",
   "execution_count": 24,
   "metadata": {},
   "outputs": [
    {
     "data": {
      "text/html": [
       "<div><style>\n",
       ".dataframe > thead > tr,\n",
       ".dataframe > tbody > tr {\n",
       "  text-align: right;\n",
       "  white-space: pre-wrap;\n",
       "}\n",
       "</style>\n",
       "<small>shape: (5, 11)</small><table border=\"1\" class=\"dataframe\"><thead><tr><th>mana_cost</th><th>type_line</th><th>power</th><th>toughness</th><th>oracle_text</th><th>colors</th><th>name</th><th>cmc</th><th>color_identity</th><th>keywords</th><th>set</th></tr><tr><td>str</td><td>str</td><td>str</td><td>str</td><td>str</td><td>str</td><td>str</td><td>f64</td><td>str</td><td>str</td><td>str</td></tr></thead><tbody><tr><td>&quot;{1}{W}&quot;</td><td>&quot;Artifact — Equipment&quot;</td><td>null</td><td>null</td><td>&quot;Equipped creature gets +2/+2.\n",
       "…</td><td>&quot;W&quot;</td><td>&quot;+2 Mace&quot;</td><td>2.0</td><td>&quot;W&quot;</td><td>&quot;Equip&quot;</td><td>&quot;afr&quot;</td></tr><tr><td>&quot;{2}{G}&quot;</td><td>&quot;Enchantment — Saga&quot;</td><td>null</td><td>null</td><td>&quot;(As this Saga enters and after…</td><td>&quot;G&quot;</td><td>&quot;A Golden Opportunity&quot;</td><td>3.0</td><td>&quot;G&quot;</td><td>&quot;Conjure&quot;</td><td>&quot;ywoe&quot;</td></tr><tr><td>&quot;{1}{W}&quot;</td><td>&quot;Instant&quot;</td><td>null</td><td>null</td><td>&quot;Tap up to two target creatures…</td><td>&quot;W&quot;</td><td>&quot;A Good Day to Pie&quot;</td><td>2.0</td><td>&quot;W&quot;</td><td>&quot;&quot;</td><td>&quot;unf&quot;</td></tr><tr><td>&quot;{4}{G}&quot;</td><td>&quot;Enchantment&quot;</td><td>null</td><td>null</td><td>&quot;When this enchantment enters, …</td><td>&quot;G&quot;</td><td>&quot;A Killer Among Us&quot;</td><td>5.0</td><td>&quot;G&quot;</td><td>&quot;&quot;</td><td>&quot;mkm&quot;</td></tr><tr><td>&quot;{1}{U}&quot;</td><td>&quot;Instant&quot;</td><td>null</td><td>null</td><td>&quot;Casualty 1 (As you cast this s…</td><td>&quot;U&quot;</td><td>&quot;A Little Chat&quot;</td><td>2.0</td><td>&quot;U&quot;</td><td>&quot;Casualty&quot;</td><td>&quot;snc&quot;</td></tr></tbody></table></div>"
      ],
      "text/plain": [
       "shape: (5, 11)\n",
       "┌───────────┬─────────────────────┬───────┬───────────┬───┬─────┬────────────────┬──────────┬──────┐\n",
       "│ mana_cost ┆ type_line           ┆ power ┆ toughness ┆ … ┆ cmc ┆ color_identity ┆ keywords ┆ set  │\n",
       "│ ---       ┆ ---                 ┆ ---   ┆ ---       ┆   ┆ --- ┆ ---            ┆ ---      ┆ ---  │\n",
       "│ str       ┆ str                 ┆ str   ┆ str       ┆   ┆ f64 ┆ str            ┆ str      ┆ str  │\n",
       "╞═══════════╪═════════════════════╪═══════╪═══════════╪═══╪═════╪════════════════╪══════════╪══════╡\n",
       "│ {1}{W}    ┆ Artifact —          ┆ null  ┆ null      ┆ … ┆ 2.0 ┆ W              ┆ Equip    ┆ afr  │\n",
       "│           ┆ Equipment           ┆       ┆           ┆   ┆     ┆                ┆          ┆      │\n",
       "│ {2}{G}    ┆ Enchantment — Saga  ┆ null  ┆ null      ┆ … ┆ 3.0 ┆ G              ┆ Conjure  ┆ ywoe │\n",
       "│ {1}{W}    ┆ Instant             ┆ null  ┆ null      ┆ … ┆ 2.0 ┆ W              ┆          ┆ unf  │\n",
       "│ {4}{G}    ┆ Enchantment         ┆ null  ┆ null      ┆ … ┆ 5.0 ┆ G              ┆          ┆ mkm  │\n",
       "│ {1}{U}    ┆ Instant             ┆ null  ┆ null      ┆ … ┆ 2.0 ┆ U              ┆ Casualty ┆ snc  │\n",
       "└───────────┴─────────────────────┴───────┴───────────┴───┴─────┴────────────────┴──────────┴──────┘"
      ]
     },
     "execution_count": 24,
     "metadata": {},
     "output_type": "execute_result"
    }
   ],
   "source": [
    "df_for_export = df_utf8.filter(~pl.any_horizontal([pl.col(c) == \"<UNK>\" for c in ['name', 'oracle_text']]))\n",
    "df_for_export.head()"
   ]
  },
  {
   "cell_type": "code",
   "execution_count": 25,
   "metadata": {},
   "outputs": [],
   "source": [
    "from pathlib import Path"
   ]
  },
  {
   "cell_type": "code",
   "execution_count": 26,
   "metadata": {},
   "outputs": [],
   "source": [
    "export_path = os.path.normpath(r\"C:\\Users\\breuh\\OneDrive\\proggy\\python\\MTG\\roberta\\data_setups\\training_database.db\")"
   ]
  },
  {
   "cell_type": "code",
   "execution_count": 27,
   "metadata": {},
   "outputs": [],
   "source": [
    "engine_path = 'sqlite:///'+export_path\n",
    "engine = create_engine(engine_path)"
   ]
  },
  {
   "cell_type": "code",
   "execution_count": 96,
   "metadata": {},
   "outputs": [],
   "source": [
    "with engine.connect() as conn:\n",
    "    df_for_export.to_pandas().to_sql('scryfall_pruned', conn, if_exists='replace', index=False)\n",
    "\n",
    "    # A) exact, case-sensitive equality / prefix LIKE ('foo%')\n",
    "    conn.exec_driver_sql(\"\"\"\n",
    "        CREATE INDEX IF NOT EXISTS ix_scryfall_name\n",
    "        ON scryfall_pruned(name);\n",
    "    \"\"\")\n",
    "\n",
    "    \n",
    "    # Gather stats & let SQLite tune plans\n",
    "    conn.exec_driver_sql(\"ANALYZE;\")\n",
    "    conn.exec_driver_sql(\"PRAGMA optimize;\")\n",
    "    conn.commit()"
   ]
  },
  {
   "cell_type": "code",
   "execution_count": 109,
   "metadata": {},
   "outputs": [],
   "source": [
    "with engine.connect() as conn:\n",
    "    df = pl.read_database(\"SELECT * FROM scryfall_pruned\", conn)"
   ]
  },
  {
   "cell_type": "code",
   "execution_count": 111,
   "metadata": {},
   "outputs": [
    {
     "data": {
      "text/plain": [
       "['mana_cost',\n",
       " 'type_line',\n",
       " 'power',\n",
       " 'toughness',\n",
       " 'oracle_text',\n",
       " 'colors',\n",
       " 'name',\n",
       " 'cmc',\n",
       " 'color_identity',\n",
       " 'keywords',\n",
       " 'set']"
      ]
     },
     "execution_count": 111,
     "metadata": {},
     "output_type": "execute_result"
    }
   ],
   "source": [
    "df.columns"
   ]
  },
  {
   "cell_type": "code",
   "execution_count": 104,
   "metadata": {},
   "outputs": [],
   "source": [
    "metadata = MetaData()\n",
    "metadata.reflect(bind=engine)"
   ]
  },
  {
   "cell_type": "code",
   "execution_count": 105,
   "metadata": {},
   "outputs": [
    {
     "data": {
      "text/plain": [
       "dict_keys(['BRO_Sealed', 'BRO_TradSealed', 'DFT_Sealed', 'DFT_TradSealed', 'KHM_PremierDraft', 'KTK_Sealed', 'KTK_TradSealed', 'LCI_Sealed', 'LCI_TradSealed', 'LTR_PremierDraft', 'LTR_Sealed', 'LTR_TradSealed', 'MKM_Sealed', 'MKM_TradSealed', 'MOM_Sealed', 'MOM_TradSealed', 'NEO_Sealed', 'ONE_Sealed', 'ONE_TradSealed', 'PIO_Sealed', 'SIR_Sealed', 'SIR_TradSealed', 'SNC_TradSealed', 'WOE_PremierDraft', 'WOE_Sealed', 'WOE_TradSealed', 'scryfall_pruned'])"
      ]
     },
     "execution_count": 105,
     "metadata": {},
     "output_type": "execute_result"
    }
   ],
   "source": [
    "metadata.tables.keys()"
   ]
  },
  {
   "cell_type": "markdown",
   "metadata": {},
   "source": [
    "# Rule Book for Roberta Input"
   ]
  },
  {
   "cell_type": "code",
   "execution_count": 66,
   "metadata": {},
   "outputs": [],
   "source": [
    "magic_ruleset_path = r\"C:\\Users\\breuh\\OneDrive\\proggy\\python\\MTG\\roberta\\mtg_comprehensive_rules\\pruned_MagicCompRules20230616.txt\"\n",
    "magic_ruleset_path = os.path.normpath(magic_ruleset_path)"
   ]
  },
  {
   "cell_type": "code",
   "execution_count": 67,
   "metadata": {},
   "outputs": [],
   "source": [
    "chunk_size = 475\n",
    "\n",
    "with open(magic_ruleset_path, 'r') as f:\n",
    "    lines = f.readlines()\n",
    "    lines = [l.strip(\"\\n\").strip(\"\\ufeff\").strip() for l in lines if l != '\\n']\n",
    "\n",
    "ruleset_chunked = []\n",
    "for idx, line in enumerate(lines):\n",
    "    rule = line \n",
    "    for i in range(idx+1, len(lines)):\n",
    "        newline = lines[i]\n",
    "        newrule = rule + \" \" + newline \n",
    "        if len(newrule.split(\" \")) > chunk_size:\n",
    "            #  print(newrule)\n",
    "             break \n",
    "        rule = newrule \n",
    "    ruleset_chunked.append(rule)"
   ]
  },
  {
   "cell_type": "code",
   "execution_count": 69,
   "metadata": {},
   "outputs": [],
   "source": [
    "ruleset_df = pl.DataFrame(pl.Series(ruleset_chunked), schema=[\"text\"])"
   ]
  },
  {
   "cell_type": "code",
   "execution_count": 72,
   "metadata": {},
   "outputs": [],
   "source": [
    "ruleset_df.write_database(\"ruleset\", engine_path, engine=\"sqlalchemy\", if_exists='replace')"
   ]
  },
  {
   "cell_type": "code",
   "execution_count": null,
   "metadata": {},
   "outputs": [],
   "source": []
  }
 ],
 "metadata": {
  "kernelspec": {
   "display_name": "bert_venv",
   "language": "python",
   "name": "python3"
  },
  "language_info": {
   "codemirror_mode": {
    "name": "ipython",
    "version": 3
   },
   "file_extension": ".py",
   "mimetype": "text/x-python",
   "name": "python",
   "nbconvert_exporter": "python",
   "pygments_lexer": "ipython3",
   "version": "3.12.5"
  },
  "orig_nbformat": 4
 },
 "nbformat": 4,
 "nbformat_minor": 2
}
